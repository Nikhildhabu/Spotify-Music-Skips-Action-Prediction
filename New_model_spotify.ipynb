{
 "cells": [
  {
   "cell_type": "code",
   "execution_count": 1,
   "metadata": {
    "id": "9uCtyiEx-ixd"
   },
   "outputs": [],
   "source": [
    "import numpy as np\n",
    "import pandas as pd\n",
    "import seaborn as sns\n",
    "from sklearn.model_selection import train_test_split\n",
    "from sklearn.preprocessing import StandardScaler\n",
    "from sklearn.ensemble import RandomForestClassifier\n",
    "import pickle\n",
    "import matplotlib.pyplot as plt\n",
    "%matplotlib inline\n",
    "sns.set()\n",
    "from xgboost import XGBClassifier\n",
    "from lightgbm import LGBMClassifier\n",
    "from sklearn import tree"
   ]
  },
  {
   "cell_type": "code",
   "execution_count": 3,
   "metadata": {
    "id": "AordZCfC-8A4"
   },
   "outputs": [],
   "source": [
    "#data for google colabs\n",
    "#training_set= pd.read_csv('/content/drive/My Drive/spotify/spotify_data/train_data_20.csv')\n",
    "#track_data = pd.read_csv('/content/drive/My Drive/spotify/spotify_data/track_feats.csv')"
   ]
  },
  {
   "cell_type": "code",
   "execution_count": 4,
   "metadata": {},
   "outputs": [],
   "source": [
    "training_set = pd.read_csv(\"train_data_20.csv\")\n",
    "track_data = pd.read_csv(\"track_feats.csv\")"
   ]
  },
  {
   "cell_type": "code",
   "execution_count": 5,
   "metadata": {
    "id": "qcaz0pRG_MyZ"
   },
   "outputs": [],
   "source": [
    "training_set.rename(columns = {'track_id_clean':'track_id'},inplace=True)"
   ]
  },
  {
   "cell_type": "code",
   "execution_count": 6,
   "metadata": {
    "colab": {
     "base_uri": "https://localhost:8080/",
     "height": 487
    },
    "id": "qoAFzE5K_Vbw",
    "outputId": "bf632c87-836c-4b0d-c946-fc589a4d9a95"
   },
   "outputs": [
    {
     "data": {
      "text/html": [
       "<div>\n",
       "<style scoped>\n",
       "    .dataframe tbody tr th:only-of-type {\n",
       "        vertical-align: middle;\n",
       "    }\n",
       "\n",
       "    .dataframe tbody tr th {\n",
       "        vertical-align: top;\n",
       "    }\n",
       "\n",
       "    .dataframe thead th {\n",
       "        text-align: right;\n",
       "    }\n",
       "</style>\n",
       "<table border=\"1\" class=\"dataframe\">\n",
       "  <thead>\n",
       "    <tr style=\"text-align: right;\">\n",
       "      <th></th>\n",
       "      <th>session_id</th>\n",
       "      <th>session_position</th>\n",
       "      <th>session_length</th>\n",
       "      <th>track_id</th>\n",
       "      <th>skip_1</th>\n",
       "      <th>skip_2</th>\n",
       "      <th>skip_3</th>\n",
       "      <th>not_skipped</th>\n",
       "      <th>context_switch</th>\n",
       "      <th>no_pause_before_play</th>\n",
       "      <th>...</th>\n",
       "      <th>time_signature</th>\n",
       "      <th>valence</th>\n",
       "      <th>acoustic_vector_0</th>\n",
       "      <th>acoustic_vector_1</th>\n",
       "      <th>acoustic_vector_2</th>\n",
       "      <th>acoustic_vector_3</th>\n",
       "      <th>acoustic_vector_4</th>\n",
       "      <th>acoustic_vector_5</th>\n",
       "      <th>acoustic_vector_6</th>\n",
       "      <th>acoustic_vector_7</th>\n",
       "    </tr>\n",
       "  </thead>\n",
       "  <tbody>\n",
       "    <tr>\n",
       "      <td>0</td>\n",
       "      <td>63_0000075d-50c4-4c13-b7d1-e91fdbce83bc</td>\n",
       "      <td>0.000000</td>\n",
       "      <td>1.0</td>\n",
       "      <td>t_1a73002a-d065-4a33-b98a-a3b0443310be</td>\n",
       "      <td>1</td>\n",
       "      <td>1</td>\n",
       "      <td>1</td>\n",
       "      <td>0</td>\n",
       "      <td>0</td>\n",
       "      <td>0</td>\n",
       "      <td>...</td>\n",
       "      <td>0.571429</td>\n",
       "      <td>0.328722</td>\n",
       "      <td>-1.577071</td>\n",
       "      <td>0.786764</td>\n",
       "      <td>0.806604</td>\n",
       "      <td>0.254515</td>\n",
       "      <td>-0.863171</td>\n",
       "      <td>0.077358</td>\n",
       "      <td>-0.904268</td>\n",
       "      <td>0.592306</td>\n",
       "    </tr>\n",
       "    <tr>\n",
       "      <td>1</td>\n",
       "      <td>63_0000075d-50c4-4c13-b7d1-e91fdbce83bc</td>\n",
       "      <td>0.052632</td>\n",
       "      <td>1.0</td>\n",
       "      <td>t_1a73002a-d065-4a33-b98a-a3b0443310be</td>\n",
       "      <td>0</td>\n",
       "      <td>0</td>\n",
       "      <td>0</td>\n",
       "      <td>0</td>\n",
       "      <td>0</td>\n",
       "      <td>0</td>\n",
       "      <td>...</td>\n",
       "      <td>0.571429</td>\n",
       "      <td>0.328722</td>\n",
       "      <td>-1.577071</td>\n",
       "      <td>0.786764</td>\n",
       "      <td>0.806604</td>\n",
       "      <td>0.254515</td>\n",
       "      <td>-0.863171</td>\n",
       "      <td>0.077358</td>\n",
       "      <td>-0.904268</td>\n",
       "      <td>0.592306</td>\n",
       "    </tr>\n",
       "    <tr>\n",
       "      <td>2</td>\n",
       "      <td>63_0000c758-b61f-4966-9013-723f8e221c2e</td>\n",
       "      <td>0.210526</td>\n",
       "      <td>1.0</td>\n",
       "      <td>t_1a73002a-d065-4a33-b98a-a3b0443310be</td>\n",
       "      <td>0</td>\n",
       "      <td>0</td>\n",
       "      <td>0</td>\n",
       "      <td>1</td>\n",
       "      <td>1</td>\n",
       "      <td>1</td>\n",
       "      <td>...</td>\n",
       "      <td>0.571429</td>\n",
       "      <td>0.328722</td>\n",
       "      <td>-1.577071</td>\n",
       "      <td>0.786764</td>\n",
       "      <td>0.806604</td>\n",
       "      <td>0.254515</td>\n",
       "      <td>-0.863171</td>\n",
       "      <td>0.077358</td>\n",
       "      <td>-0.904268</td>\n",
       "      <td>0.592306</td>\n",
       "    </tr>\n",
       "    <tr>\n",
       "      <td>3</td>\n",
       "      <td>63_002bfc14-d51f-4cdd-879a-eae059632e97</td>\n",
       "      <td>0.052632</td>\n",
       "      <td>1.0</td>\n",
       "      <td>t_1a73002a-d065-4a33-b98a-a3b0443310be</td>\n",
       "      <td>1</td>\n",
       "      <td>1</td>\n",
       "      <td>1</td>\n",
       "      <td>0</td>\n",
       "      <td>0</td>\n",
       "      <td>1</td>\n",
       "      <td>...</td>\n",
       "      <td>0.571429</td>\n",
       "      <td>0.328722</td>\n",
       "      <td>-1.577071</td>\n",
       "      <td>0.786764</td>\n",
       "      <td>0.806604</td>\n",
       "      <td>0.254515</td>\n",
       "      <td>-0.863171</td>\n",
       "      <td>0.077358</td>\n",
       "      <td>-0.904268</td>\n",
       "      <td>0.592306</td>\n",
       "    </tr>\n",
       "    <tr>\n",
       "      <td>4</td>\n",
       "      <td>63_002bfc14-d51f-4cdd-879a-eae059632e97</td>\n",
       "      <td>0.105263</td>\n",
       "      <td>1.0</td>\n",
       "      <td>t_1a73002a-d065-4a33-b98a-a3b0443310be</td>\n",
       "      <td>0</td>\n",
       "      <td>0</td>\n",
       "      <td>0</td>\n",
       "      <td>0</td>\n",
       "      <td>0</td>\n",
       "      <td>0</td>\n",
       "      <td>...</td>\n",
       "      <td>0.571429</td>\n",
       "      <td>0.328722</td>\n",
       "      <td>-1.577071</td>\n",
       "      <td>0.786764</td>\n",
       "      <td>0.806604</td>\n",
       "      <td>0.254515</td>\n",
       "      <td>-0.863171</td>\n",
       "      <td>0.077358</td>\n",
       "      <td>-0.904268</td>\n",
       "      <td>0.592306</td>\n",
       "    </tr>\n",
       "  </tbody>\n",
       "</table>\n",
       "<p>5 rows × 69 columns</p>\n",
       "</div>"
      ],
      "text/plain": [
       "                                session_id  session_position  session_length  \\\n",
       "0  63_0000075d-50c4-4c13-b7d1-e91fdbce83bc          0.000000             1.0   \n",
       "1  63_0000075d-50c4-4c13-b7d1-e91fdbce83bc          0.052632             1.0   \n",
       "2  63_0000c758-b61f-4966-9013-723f8e221c2e          0.210526             1.0   \n",
       "3  63_002bfc14-d51f-4cdd-879a-eae059632e97          0.052632             1.0   \n",
       "4  63_002bfc14-d51f-4cdd-879a-eae059632e97          0.105263             1.0   \n",
       "\n",
       "                                 track_id  skip_1  skip_2  skip_3  \\\n",
       "0  t_1a73002a-d065-4a33-b98a-a3b0443310be       1       1       1   \n",
       "1  t_1a73002a-d065-4a33-b98a-a3b0443310be       0       0       0   \n",
       "2  t_1a73002a-d065-4a33-b98a-a3b0443310be       0       0       0   \n",
       "3  t_1a73002a-d065-4a33-b98a-a3b0443310be       1       1       1   \n",
       "4  t_1a73002a-d065-4a33-b98a-a3b0443310be       0       0       0   \n",
       "\n",
       "   not_skipped  context_switch  no_pause_before_play  ...  time_signature  \\\n",
       "0            0               0                     0  ...        0.571429   \n",
       "1            0               0                     0  ...        0.571429   \n",
       "2            1               1                     1  ...        0.571429   \n",
       "3            0               0                     1  ...        0.571429   \n",
       "4            0               0                     0  ...        0.571429   \n",
       "\n",
       "    valence  acoustic_vector_0  acoustic_vector_1  acoustic_vector_2  \\\n",
       "0  0.328722          -1.577071           0.786764           0.806604   \n",
       "1  0.328722          -1.577071           0.786764           0.806604   \n",
       "2  0.328722          -1.577071           0.786764           0.806604   \n",
       "3  0.328722          -1.577071           0.786764           0.806604   \n",
       "4  0.328722          -1.577071           0.786764           0.806604   \n",
       "\n",
       "   acoustic_vector_3  acoustic_vector_4  acoustic_vector_5  acoustic_vector_6  \\\n",
       "0           0.254515          -0.863171           0.077358          -0.904268   \n",
       "1           0.254515          -0.863171           0.077358          -0.904268   \n",
       "2           0.254515          -0.863171           0.077358          -0.904268   \n",
       "3           0.254515          -0.863171           0.077358          -0.904268   \n",
       "4           0.254515          -0.863171           0.077358          -0.904268   \n",
       "\n",
       "   acoustic_vector_7  \n",
       "0           0.592306  \n",
       "1           0.592306  \n",
       "2           0.592306  \n",
       "3           0.592306  \n",
       "4           0.592306  \n",
       "\n",
       "[5 rows x 69 columns]"
      ]
     },
     "execution_count": 6,
     "metadata": {},
     "output_type": "execute_result"
    }
   ],
   "source": [
    "main = pd.merge(training_set,track_data)\n",
    "\n",
    "main.head(5)"
   ]
  },
  {
   "cell_type": "code",
   "execution_count": 5,
   "metadata": {
    "id": "3dJ93MXl_dws"
   },
   "outputs": [],
   "source": [
    "main.drop(['session_id','track_id','skip_1','skip_2','skip_3'],axis=1,inplace=True)"
   ]
  },
  {
   "cell_type": "code",
   "execution_count": 33,
   "metadata": {},
   "outputs": [
    {
     "data": {
      "text/plain": [
       "session_id                        object\n",
       "session_position                 float64\n",
       "session_length                   float64\n",
       "track_id                          object\n",
       "skip_1                             int64\n",
       "                                  ...   \n",
       "acoustic_vector_6                float64\n",
       "acoustic_vector_7                float64\n",
       "premium                            int64\n",
       "hist_user_behavior_is_shuffle      int64\n",
       "not_skipped                        int64\n",
       "Length: 69, dtype: object"
      ]
     },
     "execution_count": 33,
     "metadata": {},
     "output_type": "execute_result"
    }
   ],
   "source": [
    "main.dtypes"
   ]
  },
  {
   "cell_type": "code",
   "execution_count": 67,
   "metadata": {},
   "outputs": [
    {
     "name": "stdout",
     "output_type": "stream",
     "text": [
      "session_position 0.0 1.0\n",
      "session_length 1.0 1.0\n",
      "context_switch 0 1\n",
      "no_pause_before_play 0 1\n",
      "short_pause_before_play 0 1\n",
      "long_pause_before_play 0 1\n",
      "hist_user_behavior_n_seekfwd -0.1649147349661557 27.37858121472395\n",
      "hist_user_behavior_n_seekback -0.16531891838347845 42.456995337990044\n",
      "hour_of_day 0.0 1.0\n",
      "context_type_catalog 0 1\n",
      "context_type_charts 0 1\n",
      "context_type_editorial_playlist 0 1\n",
      "context_type_personalized_playlist 0 1\n",
      "context_type_radio 0 1\n",
      "context_type_user_collection 0 1\n",
      "hist_user_behavior_reason_start_appload 0 1\n",
      "hist_user_behavior_reason_start_backbtn 0 1\n",
      "hist_user_behavior_reason_start_clickrow 0 1\n",
      "hist_user_behavior_reason_start_endplay 0 1\n",
      "hist_user_behavior_reason_start_fwdbtn 0 1\n",
      "hist_user_behavior_reason_start_playbtn 0 1\n",
      "hist_user_behavior_reason_start_remote 0 1\n",
      "hist_user_behavior_reason_start_trackdone 0 1\n",
      "hist_user_behavior_reason_start_trackerror 0 1\n",
      "hist_user_behavior_reason_end_appload 0 0\n",
      "hist_user_behavior_reason_end_backbtn 0 1\n",
      "hist_user_behavior_reason_end_clickrow 0 1\n",
      "hist_user_behavior_reason_end_endplay 0 1\n",
      "hist_user_behavior_reason_end_fwdbtn 0 1\n",
      "hist_user_behavior_reason_end_logout 0 1\n",
      "hist_user_behavior_reason_end_remote 0 1\n",
      "hist_user_behavior_reason_end_trackdone 0 1\n",
      "duration -2.3596768734730302 19.10851380086356\n",
      "release_year 0.0 1.0\n",
      "us_popularity_estimate -6.207444261119512 0.7155836635362732\n",
      "acousticness 0.0 0.9957964420318604\n",
      "beat_strength 0.0 0.9852700233459472\n",
      "bounciness 0.0 0.9716018438339232\n",
      "danceability 0.0 0.9875774383544922\n",
      "dyn_range_mean -3.2472921289002064 8.727325502398111\n",
      "energy 0.0 0.9999841451644896\n",
      "flatness 0.0 1.1266945600509644\n",
      "instrumentalness 0.0 0.9999902248382568\n",
      "key 0.0 1.0\n",
      "liveness 0.0 1.0\n",
      "loudness -11.668113934140948 2.2491861408735887\n",
      "mechanism 0.0 1.0\n",
      "is_major 0 1\n",
      "organism 0.0 0.966812252998352\n",
      "speechiness 0.0 0.96919184923172\n",
      "tempo -4.015747341602296 4.045734751306838\n",
      "time_signature 0.0 0.7142857142857143\n",
      "valence 0.0 0.9999899864196776\n",
      "acoustic_vector_0 -2.0866117606154684 2.8573533302477996\n",
      "acoustic_vector_1 -4.441997005522129 2.3154409032217003\n",
      "acoustic_vector_2 -3.84390636368388 2.0496307857646245\n",
      "acoustic_vector_3 -2.349572343686427 3.340166676074121\n",
      "acoustic_vector_4 -2.6497701594249183 2.4032351211052085\n",
      "acoustic_vector_5 -6.2875985824361535 2.1472372325119053\n",
      "acoustic_vector_6 -1.7017269523517335 3.135205567307527\n",
      "acoustic_vector_7 -2.881314746273061 3.4410499963190504\n",
      "premium 0 1\n",
      "hist_user_behavior_is_shuffle 0 1\n",
      "not_skipped 0 1\n"
     ]
    }
   ],
   "source": [
    "for item in main.columns:\n",
    "    print(item,min(main[item]),max(main[item]))\n"
   ]
  },
  {
   "cell_type": "code",
   "execution_count": null,
   "metadata": {
    "colab": {
     "base_uri": "https://localhost:8080/"
    },
    "id": "2eEBk4ypAQlN",
    "outputId": "b5b277e9-48d6-4475-924f-f3b36b312314"
   },
   "outputs": [],
   "source": []
  },
  {
   "cell_type": "code",
   "execution_count": 7,
   "metadata": {
    "id": "SDHr6Dij_ss7"
   },
   "outputs": [],
   "source": [
    "#Categorical data encoding\n",
    "from sklearn.preprocessing import LabelEncoder\n",
    "le = LabelEncoder()\n",
    "notskipped = le.fit_transform(main['not_skipped'])\n",
    "premium = le.fit_transform(main['premium'])\n",
    "#contexttype = le.fit_transform(main['context_type'])\n",
    "#histstart = le.fit_transform(main['hist_user_behavior_reason_start'])\n",
    "#histend = le.fit_transform(main['hist_user_behavior_reason_end'])\n",
    "shuffle = le.fit_transform(main['hist_user_behavior_is_shuffle'])\n",
    "#mode = le.fit_transform(main['mode'])"
   ]
  },
  {
   "cell_type": "code",
   "execution_count": 8,
   "metadata": {
    "id": "i7-vQ8gl_5gl"
   },
   "outputs": [],
   "source": [
    "main.drop(['not_skipped','premium','hist_user_behavior_is_shuffle'],axis = 1,inplace=True)"
   ]
  },
  {
   "cell_type": "code",
   "execution_count": 9,
   "metadata": {
    "id": "2MLqfTHCCs1m"
   },
   "outputs": [],
   "source": [
    "#Covetring arrays to Series\n",
    "premium = pd.Series(premium,name='premium')\n",
    "notskipped = pd.Series(notskipped,name='not_skipped')\n",
    "shuffle = pd.Series(shuffle,name='hist_user_behavior_is_shuffle')\n",
    "#mode = pd.Series(mode,name='mode')\n"
   ]
  },
  {
   "cell_type": "code",
   "execution_count": 10,
   "metadata": {
    "id": "HtbAwbtVCzwC"
   },
   "outputs": [],
   "source": [
    "#Concating the dataframe and the encoded data\n",
    "main = pd.concat([main,premium,shuffle,notskipped],axis=1)\n"
   ]
  },
  {
   "cell_type": "code",
   "execution_count": null,
   "metadata": {
    "colab": {
     "base_uri": "https://localhost:8080/"
    },
    "id": "0Tvqr34zDYpF",
    "outputId": "d706baae-3f3d-4fc8-ca6c-6b0d95e7292a"
   },
   "outputs": [],
   "source": []
  },
  {
   "cell_type": "code",
   "execution_count": 35,
   "metadata": {
    "id": "71mrrqyjC90j"
   },
   "outputs": [],
   "source": [
    "X = main[['session_position','session_length','no_pause_before_play','short_pause_before_play','long_pause_before_play',\n",
    "          'hist_user_behavior_n_seekfwd','hist_user_behavior_n_seekback','hour_of_day','context_type_catalog', \n",
    "          'context_type_charts', 'context_type_editorial_playlist', 'context_type_personalized_playlist','context_type_radio',\n",
    "          'context_type_user_collection', 'hist_user_behavior_reason_start_appload', 'hist_user_behavior_reason_start_backbtn',\n",
    "          'hist_user_behavior_reason_start_clickrow', 'hist_user_behavior_reason_start_endplay','hist_user_behavior_reason_start_fwdbtn', \n",
    "          'hist_user_behavior_reason_start_playbtn', 'hist_user_behavior_reason_start_remote', 'hist_user_behavior_reason_start_trackdone', \n",
    "          'hist_user_behavior_reason_start_trackerror']]\n"
   ]
  },
  {
   "cell_type": "code",
   "execution_count": 44,
   "metadata": {
    "colab": {
     "base_uri": "https://localhost:8080/"
    },
    "id": "N04actVHH3IA",
    "outputId": "28254088-fd3c-4b04-881a-5377a54b9aee"
   },
   "outputs": [
    {
     "data": {
      "text/plain": [
       "session_position                              float64\n",
       "session_length                                float64\n",
       "no_pause_before_play                            int64\n",
       "short_pause_before_play                         int64\n",
       "long_pause_before_play                          int64\n",
       "hist_user_behavior_n_seekfwd                  float64\n",
       "hist_user_behavior_n_seekback                 float64\n",
       "hour_of_day                                   float64\n",
       "context_type_catalog                            int64\n",
       "context_type_charts                             int64\n",
       "context_type_editorial_playlist                 int64\n",
       "context_type_personalized_playlist              int64\n",
       "context_type_radio                              int64\n",
       "context_type_user_collection                    int64\n",
       "hist_user_behavior_reason_start_appload         int64\n",
       "hist_user_behavior_reason_start_backbtn         int64\n",
       "hist_user_behavior_reason_start_clickrow        int64\n",
       "hist_user_behavior_reason_start_endplay         int64\n",
       "hist_user_behavior_reason_start_fwdbtn          int64\n",
       "hist_user_behavior_reason_start_playbtn         int64\n",
       "hist_user_behavior_reason_start_remote          int64\n",
       "hist_user_behavior_reason_start_trackdone       int64\n",
       "hist_user_behavior_reason_start_trackerror      int64\n",
       "dtype: object"
      ]
     },
     "execution_count": 44,
     "metadata": {},
     "output_type": "execute_result"
    }
   ],
   "source": [
    "X.dtypes"
   ]
  },
  {
   "cell_type": "code",
   "execution_count": 37,
   "metadata": {
    "id": "jGia-vw3DHF6"
   },
   "outputs": [],
   "source": [
    "y =main['not_skipped']\n",
    "X_train, X_test, y_train, y_test = train_test_split(X, y, test_size=0.25, random_state=1)"
   ]
  },
  {
   "cell_type": "code",
   "execution_count": 38,
   "metadata": {
    "id": "bhKpFrnaFpN4"
   },
   "outputs": [],
   "source": [
    "sc = StandardScaler()\n",
    "X_train=sc.fit_transform(X_train)\n",
    "X_test=sc.fit_transform(X_test)"
   ]
  },
  {
   "cell_type": "code",
   "execution_count": 39,
   "metadata": {
    "colab": {
     "base_uri": "https://localhost:8080/",
     "height": 362
    },
    "id": "byPAKKM7FthC",
    "outputId": "9eaefdef-e179-4038-daf5-e822c8994f19"
   },
   "outputs": [
    {
     "name": "stderr",
     "output_type": "stream",
     "text": [
      "C:\\ProgramData\\Anaconda3\\lib\\site-packages\\sklearn\\ensemble\\forest.py:245: FutureWarning: The default value of n_estimators will change from 10 in version 0.20 to 100 in 0.22.\n",
      "  \"10 in version 0.20 to 100 in 0.22.\", FutureWarning)\n"
     ]
    }
   ],
   "source": [
    "rfc = RandomForestClassifier()\n",
    "rfc.fit(X_train,y_train)\n",
    "predictrfc = rfc.predict(X_test)\n"
   ]
  },
  {
   "cell_type": "code",
   "execution_count": 16,
   "metadata": {
    "colab": {
     "base_uri": "https://localhost:8080/"
    },
    "id": "b-wljE5BHj-C",
    "outputId": "94bd4ba3-a06d-43e6-8b0e-e4a4a6d99034"
   },
   "outputs": [
    {
     "name": "stdout",
     "output_type": "stream",
     "text": [
      "RF Test score:  0.825576356680998\n"
     ]
    }
   ],
   "source": [
    "print(\"RF Test score:  %s\" % rfc.score(X_test,y_test))"
   ]
  },
  {
   "cell_type": "code",
   "execution_count": 17,
   "metadata": {
    "id": "tV03e7fIS5L7"
   },
   "outputs": [],
   "source": [
    "with open(\"rfc_model_TestAcc.pkl\",\"wb\") as f:    \n",
    "    pickle.dump(rfc,f)"
   ]
  },
  {
   "cell_type": "code",
   "execution_count": 18,
   "metadata": {
    "colab": {
     "base_uri": "https://localhost:8080/"
    },
    "id": "jo0pOVr_Ggjw",
    "outputId": "8633f491-6419-4a14-d3b0-398bcff67832"
   },
   "outputs": [
    {
     "name": "stdout",
     "output_type": "stream",
     "text": [
      "[[189006  14047]\n",
      " [ 37476  54861]]\n",
      "\n",
      "\n",
      "              precision    recall  f1-score   support\n",
      "\n",
      "           0       0.83      0.93      0.88    203053\n",
      "           1       0.80      0.59      0.68     92337\n",
      "\n",
      "    accuracy                           0.83    295390\n",
      "   macro avg       0.82      0.76      0.78    295390\n",
      "weighted avg       0.82      0.83      0.82    295390\n",
      "\n"
     ]
    }
   ],
   "source": [
    "from sklearn.metrics import classification_report,confusion_matrix\n",
    "print(confusion_matrix(y_test,predictrfc))\n",
    "print('\\n')\n",
    "print(classification_report(y_test,predictrfc))\n"
   ]
  },
  {
   "cell_type": "code",
   "execution_count": 40,
   "metadata": {
    "colab": {
     "base_uri": "https://localhost:8080/"
    },
    "id": "peitaDYDFvT6",
    "outputId": "49ecd9e3-9720-45c1-ceb1-9cf4f84dae6f"
   },
   "outputs": [
    {
     "name": "stdout",
     "output_type": "stream",
     "text": [
      "[1]\ttraining's binary_logloss: 0.584828\tvalid_1's binary_logloss: 0.584544\n",
      "Training until validation scores don't improve for 10 rounds\n",
      "[2]\ttraining's binary_logloss: 0.556686\tvalid_1's binary_logloss: 0.556302\n",
      "[3]\ttraining's binary_logloss: 0.534326\tvalid_1's binary_logloss: 0.533856\n",
      "[4]\ttraining's binary_logloss: 0.516232\tvalid_1's binary_logloss: 0.515686\n",
      "[5]\ttraining's binary_logloss: 0.501345\tvalid_1's binary_logloss: 0.500729\n",
      "[6]\ttraining's binary_logloss: 0.48904\tvalid_1's binary_logloss: 0.48835\n",
      "[7]\ttraining's binary_logloss: 0.478775\tvalid_1's binary_logloss: 0.478026\n",
      "[8]\ttraining's binary_logloss: 0.470241\tvalid_1's binary_logloss: 0.469427\n",
      "[9]\ttraining's binary_logloss: 0.463051\tvalid_1's binary_logloss: 0.462178\n",
      "[10]\ttraining's binary_logloss: 0.457027\tvalid_1's binary_logloss: 0.456095\n",
      "[11]\ttraining's binary_logloss: 0.451939\tvalid_1's binary_logloss: 0.45095\n",
      "[12]\ttraining's binary_logloss: 0.447694\tvalid_1's binary_logloss: 0.446649\n",
      "[13]\ttraining's binary_logloss: 0.444061\tvalid_1's binary_logloss: 0.44298\n",
      "[14]\ttraining's binary_logloss: 0.441047\tvalid_1's binary_logloss: 0.439921\n",
      "[15]\ttraining's binary_logloss: 0.438469\tvalid_1's binary_logloss: 0.437318\n",
      "[16]\ttraining's binary_logloss: 0.436308\tvalid_1's binary_logloss: 0.435133\n",
      "[17]\ttraining's binary_logloss: 0.434473\tvalid_1's binary_logloss: 0.433261\n",
      "[18]\ttraining's binary_logloss: 0.43291\tvalid_1's binary_logloss: 0.431676\n",
      "[19]\ttraining's binary_logloss: 0.431613\tvalid_1's binary_logloss: 0.430353\n",
      "[20]\ttraining's binary_logloss: 0.430502\tvalid_1's binary_logloss: 0.429224\n",
      "[21]\ttraining's binary_logloss: 0.42957\tvalid_1's binary_logloss: 0.428258\n",
      "[22]\ttraining's binary_logloss: 0.428786\tvalid_1's binary_logloss: 0.427462\n",
      "[23]\ttraining's binary_logloss: 0.428092\tvalid_1's binary_logloss: 0.426755\n",
      "[24]\ttraining's binary_logloss: 0.427513\tvalid_1's binary_logloss: 0.426163\n",
      "[25]\ttraining's binary_logloss: 0.42702\tvalid_1's binary_logloss: 0.425661\n",
      "[26]\ttraining's binary_logloss: 0.426592\tvalid_1's binary_logloss: 0.425222\n",
      "[27]\ttraining's binary_logloss: 0.426205\tvalid_1's binary_logloss: 0.424833\n",
      "[28]\ttraining's binary_logloss: 0.425892\tvalid_1's binary_logloss: 0.424512\n",
      "[29]\ttraining's binary_logloss: 0.425623\tvalid_1's binary_logloss: 0.424237\n",
      "[30]\ttraining's binary_logloss: 0.42538\tvalid_1's binary_logloss: 0.423995\n",
      "[31]\ttraining's binary_logloss: 0.425175\tvalid_1's binary_logloss: 0.423793\n",
      "[32]\ttraining's binary_logloss: 0.424983\tvalid_1's binary_logloss: 0.423592\n",
      "[33]\ttraining's binary_logloss: 0.424829\tvalid_1's binary_logloss: 0.423436\n",
      "[34]\ttraining's binary_logloss: 0.424691\tvalid_1's binary_logloss: 0.423303\n",
      "[35]\ttraining's binary_logloss: 0.424559\tvalid_1's binary_logloss: 0.42318\n",
      "[36]\ttraining's binary_logloss: 0.424451\tvalid_1's binary_logloss: 0.423071\n",
      "[37]\ttraining's binary_logloss: 0.424354\tvalid_1's binary_logloss: 0.422972\n",
      "[38]\ttraining's binary_logloss: 0.42426\tvalid_1's binary_logloss: 0.422885\n",
      "[39]\ttraining's binary_logloss: 0.424163\tvalid_1's binary_logloss: 0.422795\n",
      "[40]\ttraining's binary_logloss: 0.424094\tvalid_1's binary_logloss: 0.42273\n",
      "[41]\ttraining's binary_logloss: 0.424027\tvalid_1's binary_logloss: 0.422665\n",
      "[42]\ttraining's binary_logloss: 0.423968\tvalid_1's binary_logloss: 0.422621\n",
      "[43]\ttraining's binary_logloss: 0.423902\tvalid_1's binary_logloss: 0.422562\n",
      "[44]\ttraining's binary_logloss: 0.423857\tvalid_1's binary_logloss: 0.422525\n",
      "[45]\ttraining's binary_logloss: 0.423804\tvalid_1's binary_logloss: 0.422483\n",
      "[46]\ttraining's binary_logloss: 0.423768\tvalid_1's binary_logloss: 0.422457\n",
      "[47]\ttraining's binary_logloss: 0.423715\tvalid_1's binary_logloss: 0.422414\n",
      "[48]\ttraining's binary_logloss: 0.423672\tvalid_1's binary_logloss: 0.422381\n",
      "[49]\ttraining's binary_logloss: 0.423637\tvalid_1's binary_logloss: 0.422352\n",
      "[50]\ttraining's binary_logloss: 0.4236\tvalid_1's binary_logloss: 0.422327\n",
      "[51]\ttraining's binary_logloss: 0.423568\tvalid_1's binary_logloss: 0.422306\n",
      "[52]\ttraining's binary_logloss: 0.423533\tvalid_1's binary_logloss: 0.422281\n",
      "[53]\ttraining's binary_logloss: 0.423505\tvalid_1's binary_logloss: 0.422274\n",
      "[54]\ttraining's binary_logloss: 0.423473\tvalid_1's binary_logloss: 0.422247\n",
      "[55]\ttraining's binary_logloss: 0.423437\tvalid_1's binary_logloss: 0.422216\n",
      "[56]\ttraining's binary_logloss: 0.423414\tvalid_1's binary_logloss: 0.422204\n",
      "[57]\ttraining's binary_logloss: 0.423384\tvalid_1's binary_logloss: 0.422182\n",
      "[58]\ttraining's binary_logloss: 0.423363\tvalid_1's binary_logloss: 0.422182\n",
      "[59]\ttraining's binary_logloss: 0.423338\tvalid_1's binary_logloss: 0.422165\n",
      "[60]\ttraining's binary_logloss: 0.42332\tvalid_1's binary_logloss: 0.422158\n",
      "[61]\ttraining's binary_logloss: 0.423297\tvalid_1's binary_logloss: 0.422145\n",
      "[62]\ttraining's binary_logloss: 0.423281\tvalid_1's binary_logloss: 0.422142\n",
      "[63]\ttraining's binary_logloss: 0.423259\tvalid_1's binary_logloss: 0.42213\n",
      "[64]\ttraining's binary_logloss: 0.423246\tvalid_1's binary_logloss: 0.422126\n",
      "[65]\ttraining's binary_logloss: 0.423219\tvalid_1's binary_logloss: 0.422117\n",
      "[66]\ttraining's binary_logloss: 0.423199\tvalid_1's binary_logloss: 0.422105\n",
      "[67]\ttraining's binary_logloss: 0.423185\tvalid_1's binary_logloss: 0.422102\n",
      "[68]\ttraining's binary_logloss: 0.423168\tvalid_1's binary_logloss: 0.422095\n",
      "[69]\ttraining's binary_logloss: 0.423148\tvalid_1's binary_logloss: 0.422085\n",
      "[70]\ttraining's binary_logloss: 0.423131\tvalid_1's binary_logloss: 0.422085\n",
      "[71]\ttraining's binary_logloss: 0.423118\tvalid_1's binary_logloss: 0.422086\n",
      "[72]\ttraining's binary_logloss: 0.423099\tvalid_1's binary_logloss: 0.422077\n",
      "[73]\ttraining's binary_logloss: 0.423083\tvalid_1's binary_logloss: 0.422072\n",
      "[74]\ttraining's binary_logloss: 0.423069\tvalid_1's binary_logloss: 0.422068\n",
      "[75]\ttraining's binary_logloss: 0.423057\tvalid_1's binary_logloss: 0.422067\n",
      "[76]\ttraining's binary_logloss: 0.423039\tvalid_1's binary_logloss: 0.422055\n",
      "[77]\ttraining's binary_logloss: 0.423029\tvalid_1's binary_logloss: 0.422056\n",
      "[78]\ttraining's binary_logloss: 0.423015\tvalid_1's binary_logloss: 0.422055\n",
      "[79]\ttraining's binary_logloss: 0.423001\tvalid_1's binary_logloss: 0.42205\n",
      "[80]\ttraining's binary_logloss: 0.422983\tvalid_1's binary_logloss: 0.422046\n",
      "[81]\ttraining's binary_logloss: 0.422965\tvalid_1's binary_logloss: 0.422043\n",
      "[82]\ttraining's binary_logloss: 0.422953\tvalid_1's binary_logloss: 0.422043\n",
      "[83]\ttraining's binary_logloss: 0.422941\tvalid_1's binary_logloss: 0.422035\n",
      "[84]\ttraining's binary_logloss: 0.422927\tvalid_1's binary_logloss: 0.422035\n",
      "[85]\ttraining's binary_logloss: 0.422915\tvalid_1's binary_logloss: 0.422032\n",
      "[86]\ttraining's binary_logloss: 0.422902\tvalid_1's binary_logloss: 0.422026\n",
      "[87]\ttraining's binary_logloss: 0.42289\tvalid_1's binary_logloss: 0.422026\n",
      "[88]\ttraining's binary_logloss: 0.422875\tvalid_1's binary_logloss: 0.422025\n",
      "[89]\ttraining's binary_logloss: 0.422866\tvalid_1's binary_logloss: 0.422023\n",
      "[90]\ttraining's binary_logloss: 0.422852\tvalid_1's binary_logloss: 0.422024\n",
      "[91]\ttraining's binary_logloss: 0.422841\tvalid_1's binary_logloss: 0.422024\n",
      "[92]\ttraining's binary_logloss: 0.422829\tvalid_1's binary_logloss: 0.422025\n",
      "[93]\ttraining's binary_logloss: 0.422818\tvalid_1's binary_logloss: 0.422025\n",
      "[94]\ttraining's binary_logloss: 0.422801\tvalid_1's binary_logloss: 0.422025\n",
      "[95]\ttraining's binary_logloss: 0.42279\tvalid_1's binary_logloss: 0.422025\n",
      "[96]\ttraining's binary_logloss: 0.422778\tvalid_1's binary_logloss: 0.422025\n",
      "[97]\ttraining's binary_logloss: 0.422766\tvalid_1's binary_logloss: 0.422023\n",
      "[98]\ttraining's binary_logloss: 0.422758\tvalid_1's binary_logloss: 0.422023\n",
      "[99]\ttraining's binary_logloss: 0.422751\tvalid_1's binary_logloss: 0.422021\n",
      "[100]\ttraining's binary_logloss: 0.422737\tvalid_1's binary_logloss: 0.422019\n",
      "[101]\ttraining's binary_logloss: 0.422729\tvalid_1's binary_logloss: 0.42202\n",
      "[102]\ttraining's binary_logloss: 0.422718\tvalid_1's binary_logloss: 0.422018\n",
      "[103]\ttraining's binary_logloss: 0.422708\tvalid_1's binary_logloss: 0.422018\n",
      "[104]\ttraining's binary_logloss: 0.422697\tvalid_1's binary_logloss: 0.422019\n",
      "[105]\ttraining's binary_logloss: 0.422685\tvalid_1's binary_logloss: 0.422016\n",
      "[106]\ttraining's binary_logloss: 0.422674\tvalid_1's binary_logloss: 0.422016\n",
      "[107]\ttraining's binary_logloss: 0.422663\tvalid_1's binary_logloss: 0.422017\n",
      "[108]\ttraining's binary_logloss: 0.422654\tvalid_1's binary_logloss: 0.422019\n",
      "[109]\ttraining's binary_logloss: 0.422646\tvalid_1's binary_logloss: 0.422018\n",
      "[110]\ttraining's binary_logloss: 0.422636\tvalid_1's binary_logloss: 0.422018\n",
      "[111]\ttraining's binary_logloss: 0.422625\tvalid_1's binary_logloss: 0.422017\n"
     ]
    },
    {
     "name": "stdout",
     "output_type": "stream",
     "text": [
      "[112]\ttraining's binary_logloss: 0.422617\tvalid_1's binary_logloss: 0.422018\n",
      "[113]\ttraining's binary_logloss: 0.422609\tvalid_1's binary_logloss: 0.422015\n",
      "[114]\ttraining's binary_logloss: 0.422597\tvalid_1's binary_logloss: 0.42202\n",
      "[115]\ttraining's binary_logloss: 0.422586\tvalid_1's binary_logloss: 0.422018\n",
      "[116]\ttraining's binary_logloss: 0.422577\tvalid_1's binary_logloss: 0.422016\n",
      "[117]\ttraining's binary_logloss: 0.422567\tvalid_1's binary_logloss: 0.422015\n",
      "[118]\ttraining's binary_logloss: 0.422559\tvalid_1's binary_logloss: 0.422015\n",
      "[119]\ttraining's binary_logloss: 0.422547\tvalid_1's binary_logloss: 0.422016\n",
      "[120]\ttraining's binary_logloss: 0.42254\tvalid_1's binary_logloss: 0.422016\n",
      "[121]\ttraining's binary_logloss: 0.422524\tvalid_1's binary_logloss: 0.422009\n",
      "[122]\ttraining's binary_logloss: 0.422517\tvalid_1's binary_logloss: 0.422009\n",
      "[123]\ttraining's binary_logloss: 0.422508\tvalid_1's binary_logloss: 0.422011\n",
      "[124]\ttraining's binary_logloss: 0.422496\tvalid_1's binary_logloss: 0.422008\n",
      "[125]\ttraining's binary_logloss: 0.422488\tvalid_1's binary_logloss: 0.42201\n",
      "[126]\ttraining's binary_logloss: 0.422481\tvalid_1's binary_logloss: 0.422013\n",
      "[127]\ttraining's binary_logloss: 0.42247\tvalid_1's binary_logloss: 0.422012\n",
      "[128]\ttraining's binary_logloss: 0.422463\tvalid_1's binary_logloss: 0.422011\n",
      "[129]\ttraining's binary_logloss: 0.422456\tvalid_1's binary_logloss: 0.422009\n",
      "[130]\ttraining's binary_logloss: 0.422445\tvalid_1's binary_logloss: 0.422009\n",
      "[131]\ttraining's binary_logloss: 0.422439\tvalid_1's binary_logloss: 0.422008\n",
      "[132]\ttraining's binary_logloss: 0.42243\tvalid_1's binary_logloss: 0.422011\n",
      "[133]\ttraining's binary_logloss: 0.422415\tvalid_1's binary_logloss: 0.42201\n",
      "[134]\ttraining's binary_logloss: 0.422407\tvalid_1's binary_logloss: 0.422004\n",
      "[135]\ttraining's binary_logloss: 0.422398\tvalid_1's binary_logloss: 0.422003\n",
      "[136]\ttraining's binary_logloss: 0.42239\tvalid_1's binary_logloss: 0.422004\n",
      "[137]\ttraining's binary_logloss: 0.422377\tvalid_1's binary_logloss: 0.422004\n",
      "[138]\ttraining's binary_logloss: 0.422367\tvalid_1's binary_logloss: 0.422005\n",
      "[139]\ttraining's binary_logloss: 0.422362\tvalid_1's binary_logloss: 0.422005\n",
      "[140]\ttraining's binary_logloss: 0.422343\tvalid_1's binary_logloss: 0.422009\n",
      "[141]\ttraining's binary_logloss: 0.422335\tvalid_1's binary_logloss: 0.422007\n",
      "[142]\ttraining's binary_logloss: 0.422329\tvalid_1's binary_logloss: 0.422008\n",
      "[143]\ttraining's binary_logloss: 0.422319\tvalid_1's binary_logloss: 0.422006\n",
      "[144]\ttraining's binary_logloss: 0.42231\tvalid_1's binary_logloss: 0.422006\n",
      "[145]\ttraining's binary_logloss: 0.4223\tvalid_1's binary_logloss: 0.422006\n",
      "Early stopping, best iteration is:\n",
      "[135]\ttraining's binary_logloss: 0.422398\tvalid_1's binary_logloss: 0.422003\n"
     ]
    }
   ],
   "source": [
    "lgbm = LGBMClassifier(n_estimators=100000).fit(X_train,y_train, eval_set=[(X_train, y_train),(X_test, y_test)],early_stopping_rounds=10,verbose=True)\n"
   ]
  },
  {
   "cell_type": "code",
   "execution_count": 41,
   "metadata": {
    "colab": {
     "base_uri": "https://localhost:8080/"
    },
    "id": "2rMsvH82HWg-",
    "outputId": "7ef973fe-474e-4424-e9eb-b3790207031d"
   },
   "outputs": [
    {
     "name": "stdout",
     "output_type": "stream",
     "text": [
      "LGBM Test score:  0.8314025525576356\n"
     ]
    }
   ],
   "source": [
    "print(\"LGBM Test score:  %s\" % lgbm.score(X_test,y_test))"
   ]
  },
  {
   "cell_type": "code",
   "execution_count": 42,
   "metadata": {
    "id": "qLIqCzUnKgvG"
   },
   "outputs": [],
   "source": [
    "with open(\"lgbm_model.pkl\",\"wb\") as f:    \n",
    "    pickle.dump(lgbm,f)\n"
   ]
  },
  {
   "cell_type": "code",
   "execution_count": 23,
   "metadata": {},
   "outputs": [
    {
     "name": "stdout",
     "output_type": "stream",
     "text": [
      "                  session_position |   803\n",
      "                       hour_of_day |   736\n",
      "     hist_user_behavior_n_seekback |   606\n",
      "      hist_user_behavior_n_seekfwd |   373\n",
      "           short_pause_before_play |   188\n",
      "      context_type_user_collection |   148\n",
      "              no_pause_before_play |   134\n",
      "                context_type_radio |   134\n",
      "              context_type_catalog |   126\n",
      "hist_user_behavior_reason_start_backbtn |   107\n",
      "hist_user_behavior_reason_start_fwdbtn |   106\n",
      "hist_user_behavior_reason_start_trackdone |   104\n",
      "hist_user_behavior_reason_start_clickrow |    98\n",
      "   context_type_editorial_playlist |    96\n",
      "            long_pause_before_play |    64\n",
      "context_type_personalized_playlist |    63\n",
      "               context_type_charts |    49\n",
      "hist_user_behavior_reason_start_appload |    46\n",
      "hist_user_behavior_reason_start_remote |    27\n",
      "hist_user_behavior_reason_start_trackerror |    18\n",
      "hist_user_behavior_reason_start_endplay |    12\n",
      "hist_user_behavior_reason_start_playbtn |    12\n",
      "                    session_length |     0\n"
     ]
    }
   ],
   "source": [
    "for pair in sorted(zip(X.columns,lgbm.feature_importances_),key=lambda p:p[1],reverse=True):\n",
    "    print(\"%34s | % 5d\" % pair)"
   ]
  },
  {
   "cell_type": "code",
   "execution_count": 24,
   "metadata": {},
   "outputs": [],
   "source": [
    "lgbm_feature_importances = [[p[0], int(p[1])] for p in sorted(zip(X.columns,lgbm.feature_importances_),key=lambda p:p[1],reverse=True)]"
   ]
  },
  {
   "cell_type": "code",
   "execution_count": 25,
   "metadata": {},
   "outputs": [
    {
     "data": {
      "image/png": "[encoded data removed]",
      "text/plain": [
       "<Figure size 720x576 with 1 Axes>"
      ]
     },
     "metadata": {
      "needs_background": "light"
     },
     "output_type": "display_data"
    }
   ],
   "source": [
    "lgbm_feat = pd.DataFrame(lgbm_feature_importances,columns=['Feature','Importance'])\n",
    "\n",
    "plt.figure(figsize=(10,8))\n",
    "sns.barplot(\n",
    "    \"Importance\",\n",
    "    \"Feature\",\n",
    "    data=lgbm_feat.head(10)\n",
    ")\n",
    "plt.title(\n",
    "    \"LightGBM Model\\n Top 10 Feature Importance Comparison \",\n",
    "    fontsize=15\n",
    ")\n",
    "plt.xlabel(\n",
    "    \"\",\n",
    "    fontsize=15\n",
    ")\n",
    "plt.ylabel(\n",
    "    \"\",\n",
    "    fontsize=15\n",
    ")\n",
    "# plt.xticks(rotation=90)\n",
    "plt.tight_layout()\n",
    "plt.savefig(\"lgbm_feature_importance_top10.png\")\n",
    "# plt.show()"
   ]
  },
  {
   "cell_type": "code",
   "execution_count": 30,
   "metadata": {
    "colab": {
     "base_uri": "https://localhost:8080/",
     "height": 380
    },
    "id": "2_UImewMIERw",
    "outputId": "c6b6091c-4c78-49ac-b73e-5f4316534175"
   },
   "outputs": [
    {
     "name": "stdout",
     "output_type": "stream",
     "text": [
      "LightGBM Confusion Matrix\n",
      "[[0.64737127 0.04003521]\n",
      " [0.12856224 0.18403128]]\n"
     ]
    }
   ],
   "source": [
    "print(\"LightGBM Confusion Matrix\")\n",
    "print(confusion_matrix(\n",
    "    y_test,\n",
    "    lgbm.predict(X_test)\n",
    ") / sum(y_test.shape))"
   ]
  },
  {
   "cell_type": "code",
   "execution_count": null,
   "metadata": {},
   "outputs": [],
   "source": []
  }
 ],
 "metadata": {
  "colab": {
   "collapsed_sections": [],
   "name": "New_model_spotify.ipynb",
   "provenance": []
  },
  "kernelspec": {
   "display_name": "Python 3",
   "language": "python",
   "name": "python3"
  },
  "language_info": {
   "codemirror_mode": {
    "name": "ipython",
    "version": 3
   },
   "file_extension": ".py",
   "mimetype": "text/x-python",
   "name": "python",
   "nbconvert_exporter": "python",
   "pygments_lexer": "ipython3",
   "version": "3.7.4"
  }
 },
 "nbformat": 4,
 "nbformat_minor": 1
}
